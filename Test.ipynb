{
 "cells": [
  {
   "cell_type": "code",
   "execution_count": 1,
   "id": "9b45b7ed-c0f1-41a7-8ddd-861967d1ddbc",
   "metadata": {},
   "outputs": [
    {
     "ename": "SyntaxError",
     "evalue": "invalid syntax (3711273991.py, line 1)",
     "output_type": "error",
     "traceback": [
      "\u001b[0;36m  Cell \u001b[0;32mIn[1], line 1\u001b[0;36m\u001b[0m\n\u001b[0;31m    git init ai-timeseries-forecasting\u001b[0m\n\u001b[0m        ^\u001b[0m\n\u001b[0;31mSyntaxError\u001b[0m\u001b[0;31m:\u001b[0m invalid syntax\n"
     ]
    }
   ],
   "source": [
    "git init ai-timeseries-forecasting\n",
    "cd ai-timeseries-forecasting\n",
    "mkdir -p data/raw data/processed notebooks src/{data,features,visualization} reports/figures\n",
    "touch README.md\n"
   ]
  },
  {
   "cell_type": "code",
   "execution_count": null,
   "id": "21d367a3-f6f5-487e-aef6-e392b7250eb6",
   "metadata": {},
   "outputs": [],
   "source": [
    "mkdir -p data/raw data/processed notebooks src/{data,features,visualization} reports/figures\n"
   ]
  }
 ],
 "metadata": {
  "kernelspec": {
   "display_name": "Python 3",
   "language": "python",
   "name": "python3"
  },
  "language_info": {
   "codemirror_mode": {
    "name": "ipython",
    "version": 3
   },
   "file_extension": ".py",
   "mimetype": "text/x-python",
   "name": "python",
   "nbconvert_exporter": "python",
   "pygments_lexer": "ipython3",
   "version": "3.10.10"
  }
 },
 "nbformat": 4,
 "nbformat_minor": 5
}
